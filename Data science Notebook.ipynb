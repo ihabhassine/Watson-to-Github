{
    "cells": [
        {
            "cell_type": "markdown",
            "metadata": {
                "collapsed": true,
                "id": "e6c53c0d-61cc-43a5-89ff-379642f15148",
                "jupyter": {
                    "outputs_hidden": true
                }
            },
            "source": "# This program prints Hello, World!"
        },
        {
            "cell_type": "code",
            "execution_count": 1,
            "metadata": {
                "id": "4055a9f9-a9b5-47ff-84d2-42147e0acb98"
            },
            "outputs": [
                {
                    "name": "stdout",
                    "output_type": "stream",
                    "text": "Hello, World!\n"
                }
            ],
            "source": "print('Hello, World!')"
        },
        {
            "cell_type": "code",
            "execution_count": null,
            "metadata": {
                "id": "97a1b37a-e0fc-49fe-b699-e4623ba78a53"
            },
            "outputs": [],
            "source": ""
        }
    ],
    "metadata": {
        "kernelspec": {
            "display_name": "Python 3.11",
            "language": "python",
            "name": "python3"
        },
        "language_info": {
            "codemirror_mode": {
                "name": "ipython",
                "version": 3
            },
            "file_extension": ".py",
            "mimetype": "text/x-python",
            "name": "python",
            "nbconvert_exporter": "python",
            "pygments_lexer": "ipython3",
            "version": "3.11.9"
        }
    },
    "nbformat": 4,
    "nbformat_minor": 4
}